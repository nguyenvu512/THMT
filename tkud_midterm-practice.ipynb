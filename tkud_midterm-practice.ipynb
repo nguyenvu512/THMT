{
 "cells": [
  {
   "cell_type": "markdown",
   "metadata": {},
   "source": [
    "# Ôn tập giữa kỳ\n"
   ]
  },
  {
   "cell_type": "code",
   "execution_count": 8,
   "metadata": {},
   "outputs": [],
   "source": [
    "# import library...\n",
    "import pandas as pd\n",
    "import numpy as np\n",
    "import matplotlib.pyplot as plt\n",
    "import seaborn as sns\n",
    "import scipy.stats as stats"
   ]
  },
  {
   "cell_type": "markdown",
   "metadata": {},
   "source": [
    "## ĐỀ BÀI\n",
    "\n",
    "Hệ thống giám sát rủi ro dựa trên hành vi (The Behavior Risk Factor Surveilance System - BRFSS) là một cuộc khảo sát qua điện thoại hàng năm với 350.000 người ở Hoa Kỳ. Như tên gọi của nó, BRFSS được thiết kế để xác định các yếu tố nguy cơ ở người trưởng thành và báo cáo các xu hướng sức khỏe mớ. Ví dụ, người trả lời được hỏi về chế độ ăn uống và hoạt động thể chất hàng tuần, tình trạng HIV/AIDS, khả năng sử dụng thuốc lá và thậm chí cả mức độ chi trả dịch vụ chăm sóc sức khỏe của họ. \n",
    "\n",
    "Bộ dữ liệu **brfss_2000** chứa thông tin khảo sát năm 2000, với hơn 200 thông tin. Trong bộ dữ liệu này, ta chỉ khảo sát một số thông tin sau:\n",
    "-\tgenhlth: người khảo sát tự đánh giá sức khỏe (excellent, very good, good, fair or poor)\n",
    "-\texerany: cho biết có hoạt động thể chất nào trong tháng gần nhất hay không, có (1), không (0)\n",
    "-\thlthplan: có bảo hiểm (1) hay không (0)\n",
    "-\tsmoke100: tổng số điếu thuốc đã hút ít nhất\n",
    "-\theight: chiều cao (inches)\n",
    "-\tweight: cân nặng (pounds)\n",
    "-\twtdesire:  cân nặng mong muốn(pounds)\n",
    "-\tage: tuổi\n",
    "-\tgender: giới tính: nam(m), nữ(f)\n"
   ]
  },
  {
   "cell_type": "markdown",
   "metadata": {},
   "source": [
    "### Câu 1:\n",
    "\n",
    "Đọc hai bộ dữ liệu trên và cho biết mỗi bộ dữ liệu có kích thước bao nhiêu dòng, bao nhiêu cột?"
   ]
  },
  {
   "cell_type": "code",
   "execution_count": 10,
   "metadata": {},
   "outputs": [
    {
     "data": {
      "text/plain": [
       "(20000, 9)"
      ]
     },
     "execution_count": 10,
     "metadata": {},
     "output_type": "execute_result"
    }
   ],
   "source": [
    "\n",
    "data = pd.read_csv('data/brfss_2000.csv')\n",
    "data.shape\n",
    "# 20000 dòng, 9 cột"
   ]
  },
  {
   "cell_type": "code",
   "execution_count": 7,
   "metadata": {},
   "outputs": [
    {
     "data": {
      "text/html": [
       "<div>\n",
       "<style scoped>\n",
       "    .dataframe tbody tr th:only-of-type {\n",
       "        vertical-align: middle;\n",
       "    }\n",
       "\n",
       "    .dataframe tbody tr th {\n",
       "        vertical-align: top;\n",
       "    }\n",
       "\n",
       "    .dataframe thead th {\n",
       "        text-align: right;\n",
       "    }\n",
       "</style>\n",
       "<table border=\"1\" class=\"dataframe\">\n",
       "  <thead>\n",
       "    <tr style=\"text-align: right;\">\n",
       "      <th></th>\n",
       "      <th>exerany</th>\n",
       "      <th>hlthplan</th>\n",
       "      <th>smoke100</th>\n",
       "      <th>height</th>\n",
       "      <th>weight</th>\n",
       "      <th>wtdesire</th>\n",
       "      <th>age</th>\n",
       "      <th>gender</th>\n",
       "      <th>genhlth</th>\n",
       "    </tr>\n",
       "  </thead>\n",
       "  <tbody>\n",
       "    <tr>\n",
       "      <th>0</th>\n",
       "      <td>0</td>\n",
       "      <td>1</td>\n",
       "      <td>0</td>\n",
       "      <td>70</td>\n",
       "      <td>175</td>\n",
       "      <td>175</td>\n",
       "      <td>77</td>\n",
       "      <td>m</td>\n",
       "      <td>good</td>\n",
       "    </tr>\n",
       "    <tr>\n",
       "      <th>1</th>\n",
       "      <td>0</td>\n",
       "      <td>1</td>\n",
       "      <td>1</td>\n",
       "      <td>64</td>\n",
       "      <td>125</td>\n",
       "      <td>115</td>\n",
       "      <td>33</td>\n",
       "      <td>f</td>\n",
       "      <td>good</td>\n",
       "    </tr>\n",
       "    <tr>\n",
       "      <th>2</th>\n",
       "      <td>1</td>\n",
       "      <td>1</td>\n",
       "      <td>1</td>\n",
       "      <td>60</td>\n",
       "      <td>105</td>\n",
       "      <td>105</td>\n",
       "      <td>49</td>\n",
       "      <td>f</td>\n",
       "      <td>good</td>\n",
       "    </tr>\n",
       "    <tr>\n",
       "      <th>3</th>\n",
       "      <td>1</td>\n",
       "      <td>1</td>\n",
       "      <td>0</td>\n",
       "      <td>66</td>\n",
       "      <td>132</td>\n",
       "      <td>124</td>\n",
       "      <td>42</td>\n",
       "      <td>f</td>\n",
       "      <td>good</td>\n",
       "    </tr>\n",
       "    <tr>\n",
       "      <th>4</th>\n",
       "      <td>0</td>\n",
       "      <td>1</td>\n",
       "      <td>0</td>\n",
       "      <td>61</td>\n",
       "      <td>150</td>\n",
       "      <td>130</td>\n",
       "      <td>55</td>\n",
       "      <td>f</td>\n",
       "      <td>very good</td>\n",
       "    </tr>\n",
       "  </tbody>\n",
       "</table>\n",
       "</div>"
      ],
      "text/plain": [
       "   exerany  hlthplan  smoke100  height  weight  wtdesire  age gender  \\\n",
       "0        0         1         0      70     175       175   77      m   \n",
       "1        0         1         1      64     125       115   33      f   \n",
       "2        1         1         1      60     105       105   49      f   \n",
       "3        1         1         0      66     132       124   42      f   \n",
       "4        0         1         0      61     150       130   55      f   \n",
       "\n",
       "     genhlth  \n",
       "0       good  \n",
       "1       good  \n",
       "2       good  \n",
       "3       good  \n",
       "4  very good  "
      ]
     },
     "execution_count": 7,
     "metadata": {},
     "output_type": "execute_result"
    }
   ],
   "source": [
    "data.head(5)"
   ]
  },
  {
   "cell_type": "markdown",
   "metadata": {},
   "source": [
    "### Câu 2\n",
    "\n",
    "a, Tính tỷ lệ nam nữ\n",
    "\n",
    "b, Trong số những người tập thể thao, tỷ lệ những người tự đánh giá có sức khỏe kém là bao nhiêu?"
   ]
  },
  {
   "cell_type": "code",
   "execution_count": 33,
   "metadata": {},
   "outputs": [
    {
     "name": "stdout",
     "output_type": "stream",
     "text": [
      "gender\n",
      "f    52.155\n",
      "m    47.845\n",
      "Name: proportion, dtype: float64\n"
     ]
    }
   ],
   "source": [
    "gender_counts = data[\"gender\"].value_counts(normalize=True) * 100 \n",
    "print(gender_counts)\n",
    "# normolize=True: tinh ti le "
   ]
  },
  {
   "cell_type": "code",
   "execution_count": 53,
   "metadata": {},
   "outputs": [
    {
     "name": "stdout",
     "output_type": "stream",
     "text": [
      "9.755934021724553\n"
     ]
    }
   ],
   "source": [
    "#Trong số những người tập thể thao, tỷ lệ những người tự đánh giá có sức khỏe kém là bao nhiêu?\n",
    "do_execise_data = data[data[\"exerany\"] == 1]\n",
    "poor_health_ratio = do_execise_data[\"genhlth\"].isin([\"poor\", \"fair\"]).mean() * 100\n",
    "print(poor_health_ratio)"
   ]
  },
  {
   "cell_type": "markdown",
   "metadata": {},
   "source": [
    "### Câu 3\n",
    "\n",
    "a, Đổi đơn vị chiều cao từ inches sang centimet, đơn vị cân nặng từ pound sang kg.\n",
    "\n",
    "b, Tính tỷ lệ những người muốn giảm cân."
   ]
  },
  {
   "cell_type": "code",
   "execution_count": 7,
   "metadata": {},
   "outputs": [
    {
     "name": "stdout",
     "output_type": "stream",
     "text": [
      "63.82\n"
     ]
    }
   ],
   "source": [
    "#Nhân height với 2.54 để chuyển inches → cm.\n",
    "#Nhân weight với 0.453592 để chuyển pound → kg.\n",
    "weight_loss_ratio = (data[\"weight\"] > data[\"wtdesire\"]).mean() * 100\n",
    "print(weight_loss_ratio)"
   ]
  },
  {
   "cell_type": "markdown",
   "metadata": {},
   "source": [
    "### Câu 4:\n",
    "\n",
    "a, Theo bạn trong các thuộc tính trên, thuộc tính nào có phân phối chuẩn. Vẽ hình minh họa\n",
    "\n",
    "b, Vẽ đồ thị boxplot so sánh cân nặng của những người có tập thể dục"
   ]
  },
  {
   "cell_type": "code",
   "execution_count": 19,
   "metadata": {},
   "outputs": [
    {
     "data": {
      "text/plain": [
       "<Axes: xlabel='age', ylabel='Count'>"
      ]
     },
     "execution_count": 19,
     "metadata": {},
     "output_type": "execute_result"
    },
    {
     "data": {
      "image/png": "[encoded data removed]",
      "text/plain": [
       "<Figure size 1200x500 with 1 Axes>"
      ]
     },
     "metadata": {},
     "output_type": "display_data"
    }
   ],
   "source": [
    "#Phân phối chuẩn thường gặp ở các biến liên tục như chiều cao, cân nặng, cân nặng mong muốn, tuổi.\n",
    "values = data[\"age\"].dropna()  # Loại bỏ giá trị NaN nếu có\n",
    "\n",
    "# Vẽ Histogram + KDE\n",
    "plt.figure(figsize=(12, 5))\n",
    "\n",
    "plt.subplot(1, 2, 1)\n",
    "sns.histplot(values, bins=30, kde=True, color='blue')"
   ]
  },
  {
   "cell_type": "code",
   "execution_count": 23,
   "metadata": {},
   "outputs": [
    {
     "data": {
      "image/png": "[encoded data removed]",
      "text/plain": [
       "<Figure size 600x600 with 1 Axes>"
      ]
     },
     "metadata": {},
     "output_type": "display_data"
    }
   ],
   "source": [
    "# ve boxplot \n",
    "# Lọc dữ liệu chỉ lấy những người có tập thể dục (exerany = 1)\n",
    "data_exercise = data[data[\"exerany\"] == 1]\n",
    "\n",
    "# Vẽ boxplot\n",
    "plt.figure(figsize=(6, 6))\n",
    "sns.boxplot(y=data_exercise[\"weight\"])\n",
    "plt.ylabel(\"Cân nặng (kg)\")\n",
    "plt.title(\"Boxplot: Cân nặng của những người có tập thể dục\")\n",
    "plt.show()"
   ]
  },
  {
   "cell_type": "markdown",
   "metadata": {},
   "source": [
    "\n",
    "### Câu 5\n",
    "\n",
    "Phân bố tuổi tác trong mẫu: Hãy mô tả phân bố tuổi của người tham gia khảo sát. Tuổi trung bình, độ lệch chuẩn, và các phân vị 25%, 50%, 75% là bao nhiêu?\n",
    "\n"
   ]
  },
  {
   "cell_type": "code",
   "execution_count": 25,
   "metadata": {},
   "outputs": [
    {
     "name": "stdout",
     "output_type": "stream",
     "text": [
      "Tuổi trung bình: 45.07\n",
      "Độ lệch chuẩn: 17.19\n",
      "Phân vị 25%: 31.0\n",
      "Phân vị 50% (Median): 43.0\n",
      "Phân vị 75%: 57.0\n"
     ]
    }
   ],
   "source": [
    "#mean_age = data[\"age\"].mean()  # Trung bình\n",
    "#std_age = data[\"age\"].std()  # Độ lệch chuẩn\n",
    "#q1 = data[\"age\"].quantile(0.25)  # Phân vị 25%\n",
    "#median_age = data[\"age\"].median()  # Trung vị (Phân vị 50%)\n",
    "#q3 = data[\"age\"].quantile(0.75)  # Phân vị 75%\n",
    "\n",
    "# Mô tả thống kê tuổi\n",
    "age_stats = data[\"age\"].describe(percentiles=[0.25, 0.5, 0.75])\n",
    "\n",
    "# Xuất kết quả\n",
    "print(f\"Tuổi trung bình: {age_stats['mean']:.2f}\")\n",
    "print(f\"Độ lệch chuẩn: {age_stats['std']:.2f}\")\n",
    "print(f\"Phân vị 25%: {age_stats['25%']}\")\n",
    "print(f\"Phân vị 50% (Median): {age_stats['50%']}\")\n",
    "print(f\"Phân vị 75%: {age_stats['75%']}\")"
   ]
  },
  {
   "cell_type": "markdown",
   "metadata": {},
   "source": [
    "### Câu 6\n",
    "\n",
    "Tỉ lệ người hút thuốc: Tính tỉ lệ phần trăm người tham gia khảo sát hiện đang hút thuốc lá. Liệu có sự khác biệt đáng kể về tỉ lệ này giữa các nhóm tuổi khác nhau không?\n",
    "\n"
   ]
  },
  {
   "cell_type": "code",
   "execution_count": 20,
   "metadata": {},
   "outputs": [
    {
     "name": "stdout",
     "output_type": "stream",
     "text": [
      "Tỉ lệ người hút thuốc: 47.21%\n"
     ]
    }
   ],
   "source": [
    "# Xác định người hiện đang hút thuốc (smoke100 > 0)\n",
    "num_smokers = (data[\"smoke100\"] > 0).sum()\n",
    "total_people = data.shape[0]\n",
    "\n",
    "# Tính tỉ lệ phần trăm\n",
    "smoking_rate = (num_smokers / total_people) * 100\n",
    "print(f\"Tỉ lệ người hút thuốc: {smoking_rate:.2f}%\")"
   ]
  },
  {
   "cell_type": "code",
   "execution_count": 28,
   "metadata": {},
   "outputs": [
    {
     "name": "stdout",
     "output_type": "stream",
     "text": [
      "age_group\n",
      "Dưới 25    39.314431\n",
      "25-44      42.857143\n",
      "45-64      53.480533\n",
      "65+        52.551020\n",
      "Name: smoke100, dtype: float64\n"
     ]
    }
   ],
   "source": [
    "# Phân nhóm tuổi\n",
    "bins = [0, 24, 44, 64, 100]  # Các khoảng tuổi\n",
    "labels = [\"Dưới 25\", \"25-44\", \"45-64\", \"65+\"]\n",
    "\n",
    "# Thêm cột nhóm tuổi\n",
    "data[\"age_group\"] = pd.cut(data[\"age\"], bins=bins, labels=labels)\n",
    "\n",
    "# Tính tỉ lệ hút thuốc theo nhóm tuổi\n",
    "smoking_by_age = data.groupby(\"age_group\", observed=False)[\"smoke100\"].apply(lambda x: (x > 0).mean() * 100)\n",
    "\n",
    "# Hiển thị kết quả\n",
    "print(smoking_by_age)"
   ]
  },
  {
   "cell_type": "markdown",
   "metadata": {},
   "source": [
    "### Câu 7\n",
    "\n",
    "BMI trung bình theo giới tính: Tính chỉ số BMI trung bình cho nam và nữ trong mẫu. \n",
    "\n"
   ]
  },
  {
   "cell_type": "code",
   "execution_count": 30,
   "metadata": {},
   "outputs": [
    {
     "name": "stdout",
     "output_type": "stream",
     "text": [
      "gender\n",
      "f    25.743674\n",
      "m    26.926313\n",
      "Name: BMI, dtype: float64\n"
     ]
    }
   ],
   "source": [
    "# Chuyển đổi đơn vị\n",
    "data[\"weight_kg\"] = data[\"weight\"] * 0.453592\n",
    "data[\"height_m\"] = data[\"height\"] * 0.0254\n",
    "\n",
    "# Tính BMI\n",
    "data[\"BMI\"] = data[\"weight_kg\"] / (data[\"height_m\"] ** 2)\n",
    "\n",
    "# Tính BMI trung bình theo giới tính\n",
    "bmi_by_gender = data.groupby(\"gender\")[\"BMI\"].mean()\n",
    "\n",
    "# Hiển thị kết quả\n",
    "print(bmi_by_gender)\n"
   ]
  },
  {
   "cell_type": "markdown",
   "metadata": {},
   "source": [
    "### câu 8\n",
    "\n",
    "Phân tích tỉ lệ bệnh béo phì: Sử dụng các tiêu chuẩn của CDC về chỉ số BMI để phân loại người tham gia vào nhóm béo phì. Tính tỉ lệ béo phì theo giới tính và độ tuổi. "
   ]
  },
  {
   "cell_type": "code",
   "execution_count": 34,
   "metadata": {},
   "outputs": [
    {
     "name": "stdout",
     "output_type": "stream",
     "text": [
      "Tỉ lệ béo phì theo giới tính:\n",
      "gender\n",
      "f    18.512127\n",
      "m    20.117045\n",
      "Name: obese, dtype: float64\n",
      "\n",
      "Tỉ lệ béo phì theo nhóm tuổi:\n",
      "age_group\n",
      "Dưới 25    11.045281\n",
      "25-44      19.445772\n",
      "45-64      23.428282\n",
      "65+        17.316927\n",
      "Name: obese, dtype: float64\n"
     ]
    }
   ],
   "source": [
    "# Chuyển đổi đơn vị\n",
    "data[\"weight_kg\"] = data[\"weight\"] * 0.453592\n",
    "data[\"height_m\"] = data[\"height\"] * 0.0254\n",
    "\n",
    "# Tính chỉ số BMI\n",
    "data[\"BMI\"] = data[\"weight_kg\"] / (data[\"height_m\"] ** 2)\n",
    "\n",
    "# Xác định nhóm béo phì\n",
    "data[\"obese\"] = data[\"BMI\"] >= 30\n",
    "\n",
    "# Nhóm tuổi\n",
    "bins = [0, 24, 44, 64, 100]  # Các khoảng tuổi\n",
    "labels = [\"Dưới 25\", \"25-44\", \"45-64\", \"65+\"]\n",
    "data[\"age_group\"] = pd.cut(data[\"age\"], bins=bins, labels=labels)\n",
    "\n",
    "# Tính tỉ lệ béo phì theo giới tính\n",
    "obesity_by_gender = data.groupby(\"gender\")[\"obese\"].mean() * 100\n",
    "\n",
    "# Tính tỉ lệ béo phì theo nhóm tuổi\n",
    "obesity_by_age = data.groupby(\"age_group\", observed=False)[\"obese\"].mean() * 100\n",
    "\n",
    "# Hiển thị kết quả\n",
    "print(\"Tỉ lệ béo phì theo giới tính:\")\n",
    "print(obesity_by_gender)\n",
    "print(\"\\nTỉ lệ béo phì theo nhóm tuổi:\")\n",
    "print(obesity_by_age)\n"
   ]
  },
  {
   "cell_type": "markdown",
   "metadata": {},
   "source": [
    "---"
   ]
  }
 ],
 "metadata": {
  "kernelspec": {
   "display_name": "Python 3 (ipykernel)",
   "language": "python",
   "name": "python3"
  },
  "language_info": {
   "codemirror_mode": {
    "name": "ipython",
    "version": 3
   },
   "file_extension": ".py",
   "mimetype": "text/x-python",
   "name": "python",
   "nbconvert_exporter": "python",
   "pygments_lexer": "ipython3",
   "version": "3.12.7"
  }
 },
 "nbformat": 4,
 "nbformat_minor": 4
}
