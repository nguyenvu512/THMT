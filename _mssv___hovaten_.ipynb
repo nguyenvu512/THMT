{
    "cells": [
        {
            "cell_type": "markdown",
            "metadata": {},
            "source": [
                "# Thông tin sinh viên\n",
                "Họ và tên: \n",
                "\n",
                "MSSV: \n",
                "\n",
                "Email: "
            ]
        },
        {
            "cell_type": "markdown",
            "metadata": {},
            "source": [
                "## Nội Dung 1: Thống Kê Mô Tả"
            ]
        },
        {
            "cell_type": "code",
            "execution_count": 5,
            "metadata": {},
            "outputs": [],
            "source": [
                "import pandas as pd\n",
                "import numpy as np\n",
                "import matplotlib.pyplot as plt\n",
                "import scipy.stats as stats\n",
                "\n",
                "# Đọc dữ liệu từ file CSV\n"
            ]
        },
        {
            "cell_type": "markdown",
            "metadata": {},
            "source": [
                "### Câu 1 (2đ): Thực hiện thống kê mô tả cơ bản cho toàn bộ dữ liệu số"
            ]
        },
        {
            "cell_type": "code",
            "execution_count": null,
            "metadata": {},
            "outputs": [],
            "source": [
                "import pandas as pd\n",
                "import matplotlib.pyplot as plt\n",
                "import seaborn as sns\n",
                "from scipy.stats import binom, norm\n",
                "\n",
                "# Đọc dữ liệu\n",
                "df = pd.read_csv('online_shopping.csv')\n",
                "\n",
                "# 1. Thống kê mô tả cơ bản\n",
                "stats = df.describe()\n",
                "print(\"Thống kê mô tả cơ bản:\")\n",
                "print(stats)\n",
                "\n",
                "# 2. Tính trung bình tổng chi tiêu và mức độ hài lòng theo giới tính và thành phố\n",
                "avg_spend_satisfaction = df.groupby(['gender', 'city'])[['total_spend', 'satisfaction_score']].mean()\n",
                "print(\"\\nTrung bình tổng chi tiêu và điểm hài lòng theo giới tính và thành phố:\")\n",
                "print(avg_spend_satisfaction)\n",
                "\n",
                "# 3. Biểu đồ phân tán giữa tần suất mua hàng và tổng chi tiêu\n",
                "plt.figure(figsize=(8,6))\n",
                "sns.scatterplot(data=df, x='purchase_frequency', y='total_spend', hue='gender', alpha=0.7)\n",
                "plt.xlabel(\"Tần suất mua hàng (lần/tháng)\")\n",
                "plt.ylabel(\"Tổng chi tiêu (USD)\")\n",
                "plt.title(\"Mối quan hệ giữa tần suất mua hàng và tổng chi tiêu\")\n",
                "plt.legend(title=\"Giới tính\")\n",
                "plt.show()\n",
                "\n",
                "# 4. Biểu đồ cột thể hiện điểm hài lòng trung bình theo nhóm tuổi\n",
                "def age_group(age):\n",
                "    if age < 26:\n",
                "        return '18-25'\n",
                "    elif age < 36:\n",
                "        return '26-35'\n",
                "    elif age < 46:\n",
                "        return '36-45'\n",
                "    elif age < 56:\n",
                "        return '46-55'\n",
                "    else:\n",
                "        return '56+'\n",
                "\n",
                "df['age_group'] = df['age'].apply(age_group)\n",
                "\n",
                "grouped_satisfaction = df.groupby('age_group')['satisfaction_score'].mean().reset_index()\n",
                "plt.figure(figsize=(8,6))\n",
                "sns.barplot(data=grouped_satisfaction, x='age_group', y='satisfaction_score', palette='coolwarm')\n",
                "plt.xlabel(\"Nhóm tuổi\")\n",
                "plt.ylabel(\"Điểm hài lòng trung bình\")\n",
                "plt.title(\"Điểm hài lòng trung bình theo nhóm tuổi\")\n",
                "plt.show()\n",
                "\n",
                "# 5. Xác suất có ít nhất 30 người mua hàng\n",
                "n = 300  # số khách truy cập\n",
                "p = 0.08  # tỷ lệ chuyển đổi\n",
                "prob_30_or_more = 1 - binom.cdf(29, n, p)\n",
                "print(f\"Xác suất có ít nhất 30 người mua hàng: {prob_30_or_more:.4f}\")\n",
                "\n",
                "# 6. Xác suất người dùng ở lại trang web từ 6 đến 8 phút\n",
                "mean_time = 5\n",
                "std_dev = 1.2\n",
                "prob_6_to_8 = norm.cdf(8, mean_time, std_dev) - norm.cdf(6, mean_time, std_dev)\n",
                "print(f\"Xác suất người dùng ở lại trang web từ 6 đến 8 phút: {prob_6_to_8:.4f}\")\n",
                "\n",
                "# 7. Xác suất số khách hàng đăng ký nhận bản tin\n",
                "n_customers = 40\n",
                "p_subscribe = 0.25\n",
                "\n",
                "# a. Xác suất đúng 12 người đăng ký\n",
                "prob_12_subscribe = binom.pmf(12, n_customers, p_subscribe)\n",
                "print(f\"Xác suất có đúng 12 người đăng ký nhận bản tin: {prob_12_subscribe:.4f}\")\n",
                "\n",
                "# b. Xác suất có ít nhất 15 người đăng ký\n",
                "prob_15_or_more = 1 - binom.cdf(14, n_customers, p_subscribe)\n",
                "print(f\"Xác suất có ít nhất 15 người đăng ký nhận bản tin: {prob_15_or_more:.4f}\")\n"
            ]
        },
        {
            "cell_type": "markdown",
            "metadata": {},
            "source": [
                "### Câu 2 (1đ): Tính trung bình tổng chi tiêu và mức độ hài lòng theo giới tính và thành phố"
            ]
        },
        {
            "cell_type": "code",
            "execution_count": 6,
            "metadata": {},
            "outputs": [],
            "source": [
                "# Trung bình theo giới tính\n",
                "\n",
                "# Trung bình theo thành phố\n"
            ]
        },
        {
            "cell_type": "markdown",
            "metadata": {},
            "source": [
                "### Câu 3 (1đ): Vẽ biểu đồ phân tán thể hiện mối quan hệ giữa tần suất mua hàng và tổng chi tiêu"
            ]
        },
        {
            "cell_type": "code",
            "execution_count": null,
            "metadata": {},
            "outputs": [],
            "source": []
        },
        {
            "cell_type": "markdown",
            "metadata": {},
            "source": [
                "### Câu 4 (1đ): Vẽ biểu đồ cột thể hiện điểm hài lòng trung bình theo từng nhóm tuổi"
            ]
        },
        {
            "cell_type": "code",
            "execution_count": null,
            "metadata": {},
            "outputs": [],
            "source": []
        },
        {
            "cell_type": "markdown",
            "metadata": {},
            "source": [
                "## Nội Dung 2: Phân Phối Xác Suất"
            ]
        },
        {
            "cell_type": "markdown",
            "metadata": {},
            "source": [
                "### Câu 1 (1.5đ): Tính xác suất có ít nhất 30 người thực hiện giao dịch mua hàng"
            ]
        },
        {
            "cell_type": "code",
            "execution_count": null,
            "metadata": {},
            "outputs": [],
            "source": []
        },
        {
            "cell_type": "markdown",
            "metadata": {},
            "source": [
                "### Câu 2 (1.5đ): Tính xác suất người dùng lưu lại từ 6 đến 8 phút"
            ]
        },
        {
            "cell_type": "code",
            "execution_count": null,
            "metadata": {},
            "outputs": [],
            "source": []
        },
        {
            "cell_type": "markdown",
            "metadata": {},
            "source": [
                "### Câu 3 (2đ): Tính xác suất đăng ký nhận bản tin"
            ]
        },
        {
            "cell_type": "code",
            "execution_count": null,
            "metadata": {},
            "outputs": [],
            "source": []
        }
    ],
    "metadata": {
        "kernelspec": {
            "display_name": "data",
            "language": "python",
            "name": "python3"
        },
        "language_info": {
            "codemirror_mode": {
                "name": "ipython",
                "version": 3
            },
            "file_extension": ".py",
            "mimetype": "text/x-python",
            "name": "python",
            "nbconvert_exporter": "python",
            "pygments_lexer": "ipython3",
            "version": "3.11.0"
        }
    },
    "nbformat": 4,
    "nbformat_minor": 4
}
