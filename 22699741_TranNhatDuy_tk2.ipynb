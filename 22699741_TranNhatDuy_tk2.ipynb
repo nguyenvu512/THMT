{
 "cells": [
  {
   "cell_type": "markdown",
   "metadata": {
    "vscode": {
     "languageId": "plaintext"
    }
   },
   "source": [
    "# THỐNG KÊ MÁY TÍNH - THƯỜNG KỲ 2\n",
    "\n",
    "Họ và tên: Trần Nhật Duy\n",
    " \n",
    "MSSV: 22699741"
   ]
  },
  {
   "cell_type": "markdown",
   "metadata": {
    "vscode": {
     "languageId": "plaintext"
    }
   },
   "source": [
    "## Bài 1:\n",
    "Một công ty dược phẩm đang nghiên cứu một loại thuốc mới để giảm cholesterol trong máu. Họ đã tiến hành thử nghiệm lâm sàng trên một nhóm 20 bệnh nhân và đo lường mức giảm cholesterol (tính bằng mg/dL) sau 3 tháng sử dụng thuốc.\n",
    "\n",
    "Kết quả đo lường mức giảm cholesterol như sau:\n",
    "```python\n",
    "import numpy as np\n",
    "import pandas as pd\n",
    "import matplotlib.pyplot as plt\n",
    "import scipy.stats as stats\n",
    "\n",
    "cholesterol_reduction = np.array([15.2, 18.7, 12.5, 16.8, 14.3, 19.5, 13.7, 17.2, 20.1, 15.8,\n",
    "                               16.4, 14.9, 17.5, 13.2, 18.9, 15.5, 19.8, 14.6, 16.9, 17.7])\n",
    "```"
   ]
  },
  {
   "cell_type": "markdown",
   "metadata": {},
   "source": [
    "## a) Tính giá trị trung bình mẫu và độ lệch chuẩn mẫu của mức giảm cholesterol. (1 điểm)"
   ]
  },
  {
   "cell_type": "code",
   "execution_count": 38,
   "metadata": {
    "vscode": {
     "languageId": "plaintext"
    }
   },
   "outputs": [
    {
     "name": "stdout",
     "output_type": "stream",
     "text": [
      "Gia tri trung binh mau: 16.46\n"
     ]
    }
   ],
   "source": [
    "import numpy as np\n",
    "import pandas as pd\n",
    "import matplotlib.pyplot as plt\n",
    "import scipy.stats as stats\n",
    "\n",
    "cholesterol_reduction = np.array([15.2, 18.7, 12.5, 16.8, 14.3, 19.5, 13.7, 17.2, 20.1, 15.8,\n",
    "                               16.4, 14.9, 17.5, 13.2, 18.9, 15.5, 19.8, 14.6, 16.9, 17.7])\n",
    "\n",
    "\n",
    "print(f\"Gia tri trung binh mau: {cholesterol_reduction.mean()}\")"
   ]
  },
  {
   "cell_type": "code",
   "execution_count": 39,
   "metadata": {
    "vscode": {
     "languageId": "plaintext"
    }
   },
   "outputs": [
    {
     "name": "stdout",
     "output_type": "stream",
     "text": [
      "Do lech chuan cua mau: 2.1855\n"
     ]
    }
   ],
   "source": [
    "print(f\"Do lech chuan cua mau: {cholesterol_reduction.std().round(4)}\")"
   ]
  },
  {
   "cell_type": "markdown",
   "metadata": {},
   "source": [
    "## b) Xây dựng khoảng ước lượng cho giá trị trung bình của mức giảm cholesterol trong quần thể với độ tin cậy 95%. (2 điểm)"
   ]
  },
  {
   "cell_type": "markdown",
   "metadata": {
    "vscode": {
     "languageId": "plaintext"
    }
   },
   "source": [
    "Vì cỡ mẫu nhỏ (n = 20) và không biết σ, có phân phối chuẩn nên dùng phân phối t\n",
    "\n",
    "Tóm tắt: \\\n",
    "$n = 20 \\le 30$\\\n",
    "$\\bar{x} = 16.46$\\\n",
    "$s=2.1855$\\\n",
    "$\\alpha = 1 - 0.95 = 0.05 $\n",
    "\n",
    "Khoảng tin cậy:\n",
    "\n",
    "$$\\bigg(\\bar{x} - t_{\\frac{\\alpha}{2}, n-1}\\frac{s}{\\sqrt{n}},\\bar{x}+t_{\\frac{\\alpha}{2}, n-1}\\frac{s}{\\sqrt{n}}\\bigg)$$"
   ]
  },
  {
   "cell_type": "code",
   "execution_count": 40,
   "metadata": {
    "vscode": {
     "languageId": "plaintext"
    }
   },
   "outputs": [
    {
     "name": "stdout",
     "output_type": "stream",
     "text": [
      "15.437154514769288\n",
      "17.482845485230712\n"
     ]
    }
   ],
   "source": [
    "x = 16.46 # Tuổi thọ trung bình\n",
    "n = 20\n",
    "t = stats.t.ppf(1-0.05/2,df=n-1)\n",
    "s= 2.1855\n",
    "\n",
    "\n",
    "higher = x - t *s/np.sqrt(n)\n",
    "lower = x + t *s/np.sqrt(n)\n",
    "\n",
    "print(higher)\n",
    "print(lower)"
   ]
  },
  {
   "cell_type": "markdown",
   "metadata": {},
   "source": [
    "## c) Giả sử FDA (Cục Quản lý Thực phẩm và Dược phẩm) yêu cầu loại thuốc này phải có khả năng giảm ít nhất 15 mg/dL cholesterol để được phê duyệt. Dựa vào khoảng ước lượng mà bạn đã tính được, hãy nhận xét liệu thuốc này có khả năng được FDA phê duyệt hay không? (1 điểm)\n"
   ]
  },
  {
   "cell_type": "code",
   "execution_count": 41,
   "metadata": {
    "vscode": {
     "languageId": "plaintext"
    }
   },
   "outputs": [
    {
     "name": "stdout",
     "output_type": "stream",
     "text": [
      "Thuoc khong co kha nang duoc FDA phe duyet\n"
     ]
    }
   ],
   "source": [
    "if higher <= 15 <= lower:\n",
    "    print(\"Thuoc co kha nang duoc FDA phe duyet\")\n",
    "else:\n",
    "    print(\"Thuoc khong co kha nang duoc FDA phe duyet\")"
   ]
  },
  {
   "cell_type": "markdown",
   "metadata": {},
   "source": [
    "## Bài 2: Kiểm định trung bình với kích thước mẫu lớn (4 điểm)\n",
    "\n",
    "Một chuỗi nhà hàng đồ ăn nhanh quảng cáo rằng thời gian chờ đợi trung bình cho một đơn hàng tại cửa sổ drive-thru của họ là không quá 180 giây (3 phút). Một tổ chức bảo vệ người tiêu dùng nghi ngờ rằng thời gian chờ thực tế cao hơn quảng cáo và quyết định điều tra.\n",
    "\n",
    "Họ đã thu thập dữ liệu từ 40 khách hàng ngẫu nhiên tại một chi nhánh của chuỗi nhà hàng này và ghi lại thời gian chờ (tính bằng giây) như sau:\n",
    "\n",
    "```python\n",
    "waiting_times = np.array([\n",
    "    195, 188, 172, 210, 205, 183, 197, 215, 178, 192,\n",
    "    201, 187, 193, 179, 204, 199, 182, 208, 191, 185,\n",
    "    196, 203, 189, 174, 200, 186, 213, 181, 198, 207,\n",
    "    184, 202, 190, 209, 177, 194, 180, 212, 206, 175\n",
    "])\n",
    "```\n"
   ]
  },
  {
   "cell_type": "markdown",
   "metadata": {},
   "source": [
    "## a) Với mức ý nghĩa α = 0.05, hãy thực hiện kiểm định để xác định liệu thời gian chờ trung bình có vượt quá 180 giây như chuỗi nhà hàng quảng cáo hay không? (3.5 điểm)"
   ]
  },
  {
   "cell_type": "markdown",
   "metadata": {},
   "source": [
    "#### Câu a\n",
    "\n",
    "Tóm tắt: \n",
    "- $\\mu_0 = 180$\n",
    "- n = 40\n",
    "- $\\alpha = 0.05$"
   ]
  },
  {
   "cell_type": "code",
   "execution_count": 42,
   "metadata": {
    "vscode": {
     "languageId": "plaintext"
    }
   },
   "outputs": [],
   "source": [
    "waiting_times = np.array([\n",
    "    195, 188, 172, 210, 205, 183, 197, 215, 178, 192,\n",
    "    201, 187, 193, 179, 204, 199, 182, 208, 191, 185,\n",
    "    196, 203, 189, 174, 200, 186, 213, 181, 198, 207,\n",
    "    184, 202, 190, 209, 177, 194, 180, 212, 206, 175\n",
    "])\n",
    "    \n",
    "mu = 180\n",
    "tb = waiting_times.mean()\n",
    "n = 40\n",
    "a =0.05\n",
    "dlc = np.std(waiting_times, ddof=1).round(4)\n",
    "\n"
   ]
  },
  {
   "cell_type": "markdown",
   "metadata": {
    "vscode": {
     "languageId": "plaintext"
    }
   },
   "source": [
    "B1 Xây dựng giả thuyết kiểm định\n",
    "\n",
    "𝐻𝑜:𝜇<=180\n",
    " \n",
    "𝐻𝑎:𝜇>180"
   ]
  },
  {
   "cell_type": "markdown",
   "metadata": {},
   "source": [
    "B2 Mức ý nghĩa của kiểm định  𝛼=0.05"
   ]
  },
  {
   "cell_type": "markdown",
   "metadata": {},
   "source": [
    "**B3** Tính giá trị kiểm định từ mẫu\n",
    "$$t_0 = \\frac{\\bar{x} - \\mu_0}{\\frac{s}{\\sqrt{n}}} \\approx 7.0987$$"
   ]
  },
  {
   "cell_type": "code",
   "execution_count": 43,
   "metadata": {},
   "outputs": [
    {
     "name": "stdout",
     "output_type": "stream",
     "text": [
      "- Trị kiểm định:  7.0987\n"
     ]
    }
   ],
   "source": [
    "\n",
    "trikiemdinh = ((tb - mu) / (dlc / np.sqrt(n))).round(4)\n",
    "print('- Trị kiểm định: ', trikiemdinh)"
   ]
  },
  {
   "cell_type": "markdown",
   "metadata": {},
   "source": [
    "**B4** Xác định `miền bác  bỏ` (critical region) của kiểm định\n",
    "\n",
    "Mức ý nghĩa vẫn như cũ nên miền bác bỏ không thay đổi\n",
    "$$\\{ t: |t| > t^{n-1}_{\\alpha/2} \\}$$\n",
    "\n",
    "hay \n",
    "\n",
    "$$\\{ t: |t| > 1.6849 \\}$$\n",
    "\n"
   ]
  },
  {
   "cell_type": "code",
   "execution_count": 44,
   "metadata": {},
   "outputs": [
    {
     "name": "stdout",
     "output_type": "stream",
     "text": [
      "Thoi gian phuc vu tren 180s\n"
     ]
    }
   ],
   "source": [
    "mienbacbo = stats.t.ppf(1 - a, df=n-1).round(4)\n",
    "mienbacbo\n",
    "\n",
    "if trikiemdinh > mienbacbo:\n",
    "    print(\"Thoi gian phuc vu tren 180s\")\n",
    "else:\n",
    "    print(\"Thoi gian phuc vu duoi 180s\")"
   ]
  },
  {
   "cell_type": "markdown",
   "metadata": {},
   "source": [
    "## b) Từ kết quả trên, hãy đưa ra kết luận về quảng cáo của chuỗi nhà hàng. Nếu bạn là người quản lý chuỗi nhà hàng, bạn sẽ đề xuất những biện pháp gì để cải thiện tình hình? (0.5 điểm)"
   ]
  },
  {
   "cell_type": "markdown",
   "metadata": {
    "vscode": {
     "languageId": "plaintext"
    }
   },
   "source": [
    "Với tình hình này thì phải train nhân viên kĩ càng hơn và tạo một môi trường làm việc không quá gò bó và nhàm chán thì sẽ khiến năng suất của nhân viên cao hơn và thời gian phục vụ sẽ từ đó mà giảm"
   ]
  },
  {
   "cell_type": "markdown",
   "metadata": {
    "vscode": {
     "languageId": "plaintext"
    }
   },
   "source": [
    "## Bài 3: Hồi quy tuyến tính đơn (2 điểm)\n",
    "\n",
    "Một nhà nghiên cứu marketing muốn tìm hiểu mối quan hệ giữa chi phí quảng cáo (đơn vị: nghìn USD) và doanh số bán hàng (đơn vị: nghìn USD) của một sản phẩm mới ra mắt. Dữ liệu từ 8 khu vực khác nhau được thu thập như sau:\n",
    "\n",
    "```python\n",
    "advertising_data = pd.DataFrame({\n",
    "    'Chi_phi_quang_cao': [2.5, 3.7, 5.2, 1.8, 4.3, 6.0, 3.0, 4.8],\n",
    "    'Doanh_so': [18.3, 24.5, 32.8, 14.2, 27.9, 36.4, 21.6, 29.7]\n",
    "})\n",
    "\n",
    "print(advertising_data)\n",
    "```"
   ]
  },
  {
   "cell_type": "markdown",
   "metadata": {
    "vscode": {
     "languageId": "plaintext"
    }
   },
   "source": [
    "## a) Xây dựng mô hình hồi quy tuyến tính đơn để dự đoán doanh số bán hàng dựa vào chi phí quảng cáo. Tính các tham số của mô hình và viết phương trình hồi quy. (1 điểm)"
   ]
  },
  {
   "cell_type": "markdown",
   "metadata": {},
   "source": []
  },
  {
   "cell_type": "markdown",
   "metadata": {
    "vscode": {
     "languageId": "plaintext"
    }
   },
   "source": [
    "Xét hệ số tương quan"
   ]
  },
  {
   "cell_type": "markdown",
   "metadata": {
    "vscode": {
     "languageId": "plaintext"
    }
   },
   "source": [
    "Hệ số tương quan Pearson - $r_{xy}$ (correlation coefficient) đo mối quan hệ tuyến tính giữa hai biến:\n",
    "\n",
    "$$r_{xy} = \\frac{\\sum(x_i - \\bar{x})(y_i - \\bar{y})}{\\sqrt{\\sum{(x_i - \\bar{x})^2} \\sum{(y_i - \\bar{y})^2}}} = \\frac{Cov(x, y)}{s_x * s_y}$$\n",
    "\n",
    "- Miền giá trị: -1 <= $r_{xy}$ <= 1\n",
    "- $r_{xy} = 0$: hai biến x, y không có mối quan hệ tuyến tính\n",
    "- $r_{xy} = 1$: hai biến x, y có mối quan hệ tuyến tính tuyệt đối\n",
    "- $|r_{xy}|$ càng gần 1 thì mối quan hệ tuyến tính giũa hai biến càng mạnh\n",
    "- Nếu $r_{xy}$ < 0: hai biến x, y có mối quan hệ nghịch biến\n",
    "- Nếu $r_{xy}$ > 0: hai biến x, y có mối quan hệ đồng biến"
   ]
  },
  {
   "cell_type": "code",
   "execution_count": 45,
   "metadata": {},
   "outputs": [
    {
     "data": {
      "text/plain": [
       "array([[1.        , 0.99835977],\n",
       "       [0.99835977, 1.        ]])"
      ]
     },
     "execution_count": 45,
     "metadata": {},
     "output_type": "execute_result"
    }
   ],
   "source": [
    "advertising_data = pd.DataFrame({\n",
    "    'Chi_phi_quang_cao': [2.5, 3.7, 5.2, 1.8, 4.3, 6.0, 3.0, 4.8],\n",
    "    'Doanh_so': [18.3, 24.5, 32.8, 14.2, 27.9, 36.4, 21.6, 29.7]\n",
    "})\n",
    "\n",
    "x = advertising_data['Chi_phi_quang_cao']\n",
    "y = advertising_data['Doanh_so']\n",
    "np.corrcoef(x,y)"
   ]
  },
  {
   "cell_type": "markdown",
   "metadata": {},
   "source": [
    "Với hệ số tương quan là __0.9983__ thì cho thấy 2 biến x, y có tương quan tuyến tính mạnh. Vì vậy, có thể xây dựng mô hình hồi quy tuyến tính cho 2 biến x, y"
   ]
  },
  {
   "cell_type": "markdown",
   "metadata": {},
   "source": [
    "Mô hình hồi quy tuyến tính đơn biến có công thức như sau:\n",
    "$$\\hat{y} = \\beta_0 + \\beta_1x$$\n",
    "\n",
    "Trong đó:\n",
    "- $\\hat{y}$: là giá trị dự đoán của biến $y$\n",
    "- $x$: giá trị của biến tiên lượng\n",
    "- $\\beta_0$: là giao điểm (*intercept*) của đường thẳng hồi quy và trục tung\n",
    "- $\\beta_1$: là độ dốc của đường thẳng hồi quy, thể hiện mức độ thay đổi của biến $y$ khi biến $x$ thay đổi một đơn vị\n",
    "\n",
    "Bằng phương pháp bình phương tối tiểu tổng sai số giữa giá trị thực tế và giá trị dự đoán: $\\sum(y_i - \\hat{y_i})^2$, ta có được công thức tính độ dốc và giao điểm của đường thẳng hồi quy như sau:\n",
    "\n",
    "$$\\beta_1 = \\frac{s_{xy}}{s_{xx}} = \\frac{\\sum(x_i - \\bar{x})(y_i - \\bar{y})}{\\sum(x_i - \\bar{x})^2}$$\n",
    "\n",
    "$$\\beta_0 = \\bar{y} - \\beta_1\\bar{x}$$\n",
    "\n",
    "*Lưu ý*: phương trình đường thẳng hồi quy  đi qua điểm $(\\bar{x}, \\bar{y})$"
   ]
  },
  {
   "cell_type": "code",
   "execution_count": 46,
   "metadata": {},
   "outputs": [
    {
     "name": "stdout",
     "output_type": "stream",
     "text": [
      "Mô hình hồi quy: y = 5.242104802729418 + 5.222465226139445x\n"
     ]
    }
   ],
   "source": [
    "tu = sum((x - x.mean()) * (y - y.mean()))\n",
    "mau = sum((x - x.mean()) * (x - x.mean()))\n",
    "b1 = tu/mau\n",
    "b0 = y.mean() - b1 * x.mean()\n",
    "print(f\"Mô hình hồi quy: y = {b0} + {b1}x\")"
   ]
  },
  {
   "cell_type": "markdown",
   "metadata": {},
   "source": [
    "## b) Dự đoán doanh số bán hàng khi chi phí quảng cáo là 4.5 nghìn USD. (1 điểm)"
   ]
  },
  {
   "cell_type": "markdown",
   "metadata": {},
   "source": []
  },
  {
   "cell_type": "markdown",
   "metadata": {},
   "source": [
    "Thay x = 4.5 vào mô hình hồi quy "
   ]
  },
  {
   "cell_type": "code",
   "execution_count": 47,
   "metadata": {},
   "outputs": [
    {
     "name": "stdout",
     "output_type": "stream",
     "text": [
      "Doanh so ban hang khi chi phi quang cao la 4.5 nghien USD: 28.74319832035692\n"
     ]
    }
   ],
   "source": [
    "y_predict = b0 + 4.5*b1\n",
    "print(f\"Doanh so ban hang khi chi phi quang cao la 4.5 nghien USD: {y_predict}\")"
   ]
  }
 ],
 "metadata": {
  "kernelspec": {
   "display_name": "Python 3",
   "language": "python",
   "name": "python3"
  },
  "language_info": {
   "codemirror_mode": {
    "name": "ipython",
    "version": 3
   },
   "file_extension": ".py",
   "mimetype": "text/x-python",
   "name": "python",
   "nbconvert_exporter": "python",
   "pygments_lexer": "ipython3",
   "version": "3.8.5"
  }
 },
 "nbformat": 4,
 "nbformat_minor": 2
}
