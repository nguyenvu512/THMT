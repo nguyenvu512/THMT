{
 "cells": [
  {
   "cell_type": "code",
   "execution_count": 82,
   "id": "d81d0297-153a-405e-a6ab-e774c3f99269",
   "metadata": {},
   "outputs": [
    {
     "data": {
      "text/plain": [
       "0"
      ]
     },
     "execution_count": 82,
     "metadata": {},
     "output_type": "execute_result"
    }
   ],
   "source": [
    "# Hiển thị 10 dòng đầu tiên và 10 dòng cuối cùng của bảng dữ liệu.\n",
    "import pandas as pd\n",
    "import numpy as np\n",
    "\n",
    "df = pd.read_csv(\"data/diem_thi_thpt_2022.csv\", header=0)\n",
    "df.head(10)\n",
    "df.tail(10)\n",
    "df[\"sbd\"].isna().sum()"
   ]
  },
  {
   "cell_type": "code",
   "execution_count": 16,
   "id": "e78421a7-929b-44b8-bbc3-41a1f5e1d344",
   "metadata": {},
   "outputs": [
    {
     "name": "stdout",
     "output_type": "stream",
     "text": [
      "<class 'pandas.core.frame.DataFrame'>\n",
      "RangeIndex: 982726 entries, 0 to 982725\n",
      "Data columns (total 12 columns):\n",
      " #   Column     Non-Null Count   Dtype  \n",
      "---  ------     --------------   -----  \n",
      " 0   sbd        982726 non-null  int64  \n",
      " 1   toan       982726 non-null  float64\n",
      " 2   ngu_van    968865 non-null  float64\n",
      " 3   ngoai_ngu  870073 non-null  float64\n",
      " 4   vat_li     325505 non-null  float64\n",
      " 5   hoa_hoc    327342 non-null  float64\n",
      " 6   sinh_hoc   322172 non-null  float64\n",
      " 7   lich_su    647514 non-null  float64\n",
      " 8   dia_li     645308 non-null  float64\n",
      " 9   gdcd       553490 non-null  float64\n",
      " 10  tentinh    982726 non-null  object \n",
      " 11  Khoi       858736 non-null  object \n",
      "dtypes: float64(9), int64(1), object(2)\n",
      "memory usage: 90.0+ MB\n"
     ]
    }
   ],
   "source": [
    "# Cho biết thông tin về các cột dữ liệu và kiểu của từng cột trong bảng\n",
    "df.info()"
   ]
  },
  {
   "cell_type": "code",
   "execution_count": 58,
   "id": "f29432f4-8bf3-4e1b-8037-08927fb6432b",
   "metadata": {},
   "outputs": [
    {
     "data": {
      "text/plain": [
       "112653"
      ]
     },
     "execution_count": 58,
     "metadata": {},
     "output_type": "execute_result"
    }
   ],
   "source": [
    "# Cho biết số  học sinh bị thiếu điểm môn Ngữ Văn và môn Ngoại Ngữ\n",
    "data1=df[\"ngoai_ngu\"].isna().sum()\n",
    "data1"
   ]
  },
  {
   "cell_type": "code",
   "execution_count": 70,
   "id": "77a8272f-54d4-452c-b917-06cc471e05ca",
   "metadata": {},
   "outputs": [
    {
     "data": {
      "text/plain": [
       "10.0"
      ]
     },
     "execution_count": 70,
     "metadata": {},
     "output_type": "execute_result"
    }
   ],
   "source": [
    "# Với cột điểm thi môn Toán, hãy tính các trị thống kê:\n",
    "# a)\t(0.75đ) Trung binh (mean), \n",
    "# b)\t(0.75đ) Độ lệch chuẩn (standard deviation) \n",
    "# c)\t(0.75đ) Và khoảng dữ liệu (range)\n",
    "df[\"toan\"].mean()\n",
    "data1 = df[\"toan\"].max()- df[\"toan\"].min()\n",
    "data1"
   ]
  },
  {
   "cell_type": "code",
   "execution_count": 120,
   "id": "e9c7f501-7088-4112-93b2-44f943443cf9",
   "metadata": {},
   "outputs": [
    {
     "name": "stdout",
     "output_type": "stream",
     "text": [
      "khtn: 309162\n",
      "khxh: 549574\n"
     ]
    }
   ],
   "source": [
    "# ) Dựa vào dữ liệu cột Khoi, anh/chị hãy thực hiện:\n",
    "# a)\t(0.75đ) Đếm số lượng học sinh thi khối \"KHTN\" và thi khối \"KHXH\"\n",
    "#b)\t(0.75đ) Vẽ đồ thị Pie để so sánh mối tương quan giữa \"KHTN\" và \"KHXH\".\n",
    "khtn = (df[\"Khoi\"]==\"KHTN\").sum()\n",
    "print(f\"khtn: {khtn}\")\n",
    "\n",
    "khxh = (df[\"Khoi\"]==\"KHXH\").sum()\n",
    "print(f\"khxh: {khxh}\")"
   ]
  },
  {
   "cell_type": "code",
   "execution_count": 124,
   "id": "5eedd207-0120-4ce4-b882-02a76fbc0e4c",
   "metadata": {},
   "outputs": [
    {
     "data": {
      "image/png": "[encoded data removed]",
      "text/plain": [
       "<Figure size 640x480 with 1 Axes>"
      ]
     },
     "metadata": {},
     "output_type": "display_data"
    }
   ],
   "source": [
    "import matplotlib.pyplot as plt\n",
    "y = [ khtn, khxh]\n",
    "mylabels = [\"KHTN\", \"KHXH\"]\n",
    "\n",
    "plt.pie(y, labels = mylabels)\n",
    "plt.show()"
   ]
  },
  {
   "cell_type": "code",
   "execution_count": 132,
   "id": "ae041522-ede7-455c-9751-9f1d8117ba15",
   "metadata": {},
   "outputs": [
    {
     "data": {
      "text/html": [
       "<div>\n",
       "<style scoped>\n",
       "    .dataframe tbody tr th:only-of-type {\n",
       "        vertical-align: middle;\n",
       "    }\n",
       "\n",
       "    .dataframe tbody tr th {\n",
       "        vertical-align: top;\n",
       "    }\n",
       "\n",
       "    .dataframe thead th {\n",
       "        text-align: right;\n",
       "    }\n",
       "</style>\n",
       "<table border=\"1\" class=\"dataframe\">\n",
       "  <thead>\n",
       "    <tr style=\"text-align: right;\">\n",
       "      <th></th>\n",
       "      <th>sbd</th>\n",
       "      <th>toan</th>\n",
       "      <th>ngu_van</th>\n",
       "      <th>ngoai_ngu</th>\n",
       "      <th>vat_li</th>\n",
       "      <th>hoa_hoc</th>\n",
       "      <th>sinh_hoc</th>\n",
       "      <th>lich_su</th>\n",
       "      <th>dia_li</th>\n",
       "      <th>gdcd</th>\n",
       "      <th>tentinh</th>\n",
       "      <th>Khoi</th>\n",
       "    </tr>\n",
       "  </thead>\n",
       "  <tbody>\n",
       "    <tr>\n",
       "      <th>19132</th>\n",
       "      <td>1019834</td>\n",
       "      <td>0.0</td>\n",
       "      <td>7.25</td>\n",
       "      <td>9.4</td>\n",
       "      <td>NaN</td>\n",
       "      <td>NaN</td>\n",
       "      <td>NaN</td>\n",
       "      <td>7.75</td>\n",
       "      <td>6.50</td>\n",
       "      <td>8.25</td>\n",
       "      <td>thành phố hà nội</td>\n",
       "      <td>KHXH</td>\n",
       "    </tr>\n",
       "    <tr>\n",
       "      <th>500465</th>\n",
       "      <td>28027937</td>\n",
       "      <td>0.0</td>\n",
       "      <td>NaN</td>\n",
       "      <td>NaN</td>\n",
       "      <td>NaN</td>\n",
       "      <td>NaN</td>\n",
       "      <td>NaN</td>\n",
       "      <td>NaN</td>\n",
       "      <td>NaN</td>\n",
       "      <td>NaN</td>\n",
       "      <td>tỉnh thanh hóa</td>\n",
       "      <td>NaN</td>\n",
       "    </tr>\n",
       "    <tr>\n",
       "      <th>861431</th>\n",
       "      <td>52009551</td>\n",
       "      <td>0.0</td>\n",
       "      <td>5.75</td>\n",
       "      <td>NaN</td>\n",
       "      <td>NaN</td>\n",
       "      <td>NaN</td>\n",
       "      <td>NaN</td>\n",
       "      <td>3.00</td>\n",
       "      <td>5.75</td>\n",
       "      <td>NaN</td>\n",
       "      <td>tỉnh bà rịa - vũng tàu</td>\n",
       "      <td>NaN</td>\n",
       "    </tr>\n",
       "    <tr>\n",
       "      <th>671971</th>\n",
       "      <td>39009635</td>\n",
       "      <td>0.2</td>\n",
       "      <td>NaN</td>\n",
       "      <td>NaN</td>\n",
       "      <td>NaN</td>\n",
       "      <td>0.25</td>\n",
       "      <td>4.75</td>\n",
       "      <td>NaN</td>\n",
       "      <td>NaN</td>\n",
       "      <td>NaN</td>\n",
       "      <td>tỉnh phú yên</td>\n",
       "      <td>NaN</td>\n",
       "    </tr>\n",
       "    <tr>\n",
       "      <th>799556</th>\n",
       "      <td>48027390</td>\n",
       "      <td>0.4</td>\n",
       "      <td>4.25</td>\n",
       "      <td>NaN</td>\n",
       "      <td>NaN</td>\n",
       "      <td>NaN</td>\n",
       "      <td>NaN</td>\n",
       "      <td>6.75</td>\n",
       "      <td>5.25</td>\n",
       "      <td>NaN</td>\n",
       "      <td>tỉnh đồng nai</td>\n",
       "      <td>NaN</td>\n",
       "    </tr>\n",
       "    <tr>\n",
       "      <th>617975</th>\n",
       "      <td>35005460</td>\n",
       "      <td>0.4</td>\n",
       "      <td>2.00</td>\n",
       "      <td>2.2</td>\n",
       "      <td>NaN</td>\n",
       "      <td>NaN</td>\n",
       "      <td>NaN</td>\n",
       "      <td>7.25</td>\n",
       "      <td>5.25</td>\n",
       "      <td>5.25</td>\n",
       "      <td>tỉnh quảng ngãi</td>\n",
       "      <td>KHXH</td>\n",
       "    </tr>\n",
       "    <tr>\n",
       "      <th>275167</th>\n",
       "      <td>13004329</td>\n",
       "      <td>0.4</td>\n",
       "      <td>5.25</td>\n",
       "      <td>2.8</td>\n",
       "      <td>NaN</td>\n",
       "      <td>NaN</td>\n",
       "      <td>NaN</td>\n",
       "      <td>4.50</td>\n",
       "      <td>4.50</td>\n",
       "      <td>6.25</td>\n",
       "      <td>tỉnh yên bái</td>\n",
       "      <td>KHXH</td>\n",
       "    </tr>\n",
       "    <tr>\n",
       "      <th>515602</th>\n",
       "      <td>29005631</td>\n",
       "      <td>0.6</td>\n",
       "      <td>4.25</td>\n",
       "      <td>2.2</td>\n",
       "      <td>NaN</td>\n",
       "      <td>NaN</td>\n",
       "      <td>NaN</td>\n",
       "      <td>3.50</td>\n",
       "      <td>3.50</td>\n",
       "      <td>6.00</td>\n",
       "      <td>tỉnh nghệ an</td>\n",
       "      <td>KHXH</td>\n",
       "    </tr>\n",
       "    <tr>\n",
       "      <th>678601</th>\n",
       "      <td>40005436</td>\n",
       "      <td>0.6</td>\n",
       "      <td>4.58</td>\n",
       "      <td>2.2</td>\n",
       "      <td>NaN</td>\n",
       "      <td>NaN</td>\n",
       "      <td>NaN</td>\n",
       "      <td>6.00</td>\n",
       "      <td>5.50</td>\n",
       "      <td>7.25</td>\n",
       "      <td>tỉnh đắk lắk</td>\n",
       "      <td>KHXH</td>\n",
       "    </tr>\n",
       "    <tr>\n",
       "      <th>399423</th>\n",
       "      <td>22008620</td>\n",
       "      <td>0.6</td>\n",
       "      <td>3.00</td>\n",
       "      <td>NaN</td>\n",
       "      <td>NaN</td>\n",
       "      <td>NaN</td>\n",
       "      <td>NaN</td>\n",
       "      <td>5.25</td>\n",
       "      <td>5.50</td>\n",
       "      <td>NaN</td>\n",
       "      <td>tỉnh hưng yên</td>\n",
       "      <td>NaN</td>\n",
       "    </tr>\n",
       "  </tbody>\n",
       "</table>\n",
       "</div>"
      ],
      "text/plain": [
       "             sbd  toan  ngu_van  ngoai_ngu  vat_li  hoa_hoc  sinh_hoc  \\\n",
       "19132    1019834   0.0     7.25        9.4     NaN      NaN       NaN   \n",
       "500465  28027937   0.0      NaN        NaN     NaN      NaN       NaN   \n",
       "861431  52009551   0.0     5.75        NaN     NaN      NaN       NaN   \n",
       "671971  39009635   0.2      NaN        NaN     NaN     0.25      4.75   \n",
       "799556  48027390   0.4     4.25        NaN     NaN      NaN       NaN   \n",
       "617975  35005460   0.4     2.00        2.2     NaN      NaN       NaN   \n",
       "275167  13004329   0.4     5.25        2.8     NaN      NaN       NaN   \n",
       "515602  29005631   0.6     4.25        2.2     NaN      NaN       NaN   \n",
       "678601  40005436   0.6     4.58        2.2     NaN      NaN       NaN   \n",
       "399423  22008620   0.6     3.00        NaN     NaN      NaN       NaN   \n",
       "\n",
       "        lich_su  dia_li  gdcd                 tentinh  Khoi  \n",
       "19132      7.75    6.50  8.25        thành phố hà nội  KHXH  \n",
       "500465      NaN     NaN   NaN          tỉnh thanh hóa   NaN  \n",
       "861431     3.00    5.75   NaN  tỉnh bà rịa - vũng tàu   NaN  \n",
       "671971      NaN     NaN   NaN            tỉnh phú yên   NaN  \n",
       "799556     6.75    5.25   NaN           tỉnh đồng nai   NaN  \n",
       "617975     7.25    5.25  5.25         tỉnh quảng ngãi  KHXH  \n",
       "275167     4.50    4.50  6.25            tỉnh yên bái  KHXH  \n",
       "515602     3.50    3.50  6.00            tỉnh nghệ an  KHXH  \n",
       "678601     6.00    5.50  7.25            tỉnh đắk lắk  KHXH  \n",
       "399423     5.25    5.50   NaN           tỉnh hưng yên   NaN  "
      ]
     },
     "execution_count": 132,
     "metadata": {},
     "output_type": "execute_result"
    }
   ],
   "source": [
    "\n",
    "df.sort_values(by=\"toan\", ascending=True).head(10)"
   ]
  },
  {
   "cell_type": "code",
   "execution_count": 140,
   "id": "2bda3eb3-f948-420c-a483-04bb4ba38673",
   "metadata": {},
   "outputs": [
    {
     "data": {
      "text/plain": [
       "35"
      ]
     },
     "execution_count": 140,
     "metadata": {},
     "output_type": "execute_result"
    }
   ],
   "source": [
    "data1 = (df[\"toan\"] == 10).sum()\n",
    "data1"
   ]
  },
  {
   "cell_type": "code",
   "execution_count": 166,
   "id": "49e5c2d7-66b5-4bdc-8078-740182edc6bb",
   "metadata": {},
   "outputs": [
    {
     "data": {
      "text/plain": [
       "array([95769, 84094, 12433], dtype=int64)"
      ]
     },
     "execution_count": 166,
     "metadata": {},
     "output_type": "execute_result"
    }
   ],
   "source": [
    "df_new = df.loc[df[\"tentinh\"].isin([\"thành phố hà nội\", \"thành phố hồ chí minh\", \"thành phố đà nẵng\"])]\n",
    "data = df_new.groupby([\"tentinh\"])[\"sbd\"].count()\n",
    "data.values"
   ]
  },
  {
   "cell_type": "code",
   "execution_count": 168,
   "id": "ee98637d-7a93-4bae-a744-36b8fff8ade8",
   "metadata": {},
   "outputs": [
    {
     "data": {
      "image/png": "[encoded data removed]",
      "text/plain": [
       "<Figure size 640x480 with 1 Axes>"
      ]
     },
     "metadata": {},
     "output_type": "display_data"
    }
   ],
   "source": [
    "y = data.values\n",
    "mylabels = data.index\n",
    "\n",
    "plt.pie(y, labels = mylabels)\n",
    "plt.show()"
   ]
  },
  {
   "cell_type": "code",
   "execution_count": null,
   "id": "b00f3675-5f63-4161-9bea-e570ffdb2084",
   "metadata": {},
   "outputs": [],
   "source": []
  }
 ],
 "metadata": {
  "kernelspec": {
   "display_name": "Python 3 (ipykernel)",
   "language": "python",
   "name": "python3"
  },
  "language_info": {
   "codemirror_mode": {
    "name": "ipython",
    "version": 3
   },
   "file_extension": ".py",
   "mimetype": "text/x-python",
   "name": "python",
   "nbconvert_exporter": "python",
   "pygments_lexer": "ipython3",
   "version": "3.12.7"
  }
 },
 "nbformat": 4,
 "nbformat_minor": 5
}
